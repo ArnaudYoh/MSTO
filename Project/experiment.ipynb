{
 "cells": [
  {
   "cell_type": "code",
   "execution_count": 1,
   "metadata": {},
   "outputs": [],
   "source": [
    "import numpy as np \n",
    "import pywt\n",
    "import matplotlib.pyplot as plt"
   ]
  },
  {
   "cell_type": "code",
   "execution_count": 2,
   "metadata": {},
   "outputs": [],
   "source": [
    "def get_nabla_f(sigma, y):\n",
    "    \"\"\"Returns the gradient of the function f w.r.t to X \n",
    "    \"\"\"\n",
    "    # Precalculate variables to save time\n",
    "    psi_y, _ = pywt.coeffs_to_array(pywt.wavedec2(y, 'haar', level=4))\n",
    "    def nabla_f(X):\n",
    "        return - (psi_y - X) / sigma_2\n",
    "    \n",
    "    return nabla_f"
   ]
  },
  {
   "cell_type": "code",
   "execution_count": 3,
   "metadata": {},
   "outputs": [],
   "source": [
    "def proximal(X, theta, lambd):\n",
    "    \"\"\"Computes the proximal operator parametrized by lambda and theta^T * g of X     \n",
    "    \n",
    "    Note:   Our prox operator of x is argmin_{\\bar{x}}(\\theta * |\\bar{x}| + \\frac{\\bar{x} - x}{2\\lambda})\n",
    "            which is equivalent to argmin_{\\bar{x}}(\\theta * \\lambda * |\\bar{x}| + \\frac{\\bar{x} - x}{2})\n",
    "            \n",
    "    The code below represents the hand calculated solution we found for the argmin\n",
    "    \"\"\"\n",
    "    X_bar = np.copy(X)\n",
    "    for i in range(len(X)):\n",
    "        for j in range(len(X[0])):\n",
    "            sign = 1 if X_bar[i, j] > 0 else -1\n",
    "            X_bar[i, j] = sign * max(0, np.absolute(X_bar[i, j]) - lambd * theta)\n",
    "    return X_bar"
   ]
  },
  {
   "cell_type": "code",
   "execution_count": 4,
   "metadata": {},
   "outputs": [],
   "source": [
    "def myula_kernel(X, nabla_f, theta, gamma, lambd):\n",
    "    \"\"\"Returns the new value of X based on the MYULA kernel\n",
    "    \"\"\"\n",
    "    Z = np.random.normal(size=X.shape)\n",
    "    return X - gamma * nabla_f(X) - gamma * (X - proximal(X, theta, lambd))/lambd + np.sqrt(2*gamma) * Z"
   ]
  },
  {
   "cell_type": "code",
   "execution_count": 5,
   "metadata": {},
   "outputs": [],
   "source": [
    "def projection(a):\n",
    "    return 0.000001 if a < 0 else a"
   ]
  },
  {
   "cell_type": "code",
   "execution_count": 6,
   "metadata": {},
   "outputs": [],
   "source": [
    "def sapg_scalar_homogeneous(theta_0, X, nabla_f, gamma, lambd, N):\n",
    "    \"\"\"SAPG Algorithm for scalar theta and alpha positively homogeneous regularizer g\"\"\"\n",
    "    thetas = [theta_0]\n",
    "    theta = theta_0\n",
    "    thingy = theta_0\n",
    "    for i in range(N):\n",
    "        delta = (i+1)**(-beta) / (theta_0 * dim_X**2)\n",
    "        X = myula_kernel(X, nabla_f, thetas[i], gamma, lambd)\n",
    "        theta = projection(theta + delta * (dim_X**2 / theta - np.linalg.norm(X.reshape(-1), ord=1))) # g(x) = |x|_1\n",
    "        thetas.append(theta)\n",
    "    return np.mean(thetas), thetas"
   ]
  },
  {
   "cell_type": "code",
   "execution_count": 7,
   "metadata": {},
   "outputs": [],
   "source": [
    "def generate_data(scale):\n",
    "    x_0 = np.random.laplace(size=(dim_X, dim_X))\n",
    "    X = X_0 + np.random.normal(size=(dim_X, dim_X), scale=scale)\n",
    "    print(\"Current SNR\", 10 * np.log(np.linalg.norm(x.reshape(-1)) / np.linalg.norm(x.reshape(-1) - x_0.reshape(-1))))\n",
    "    coeffs = pywt.array_to_coeffs(x, slices, output_format='wavedec2')\n",
    "    y = pywt.waverec2(coeffs, 'haar')\n",
    "    \n",
    "    return X, y"
   ]
  },
  {
   "cell_type": "code",
   "execution_count": 8,
   "metadata": {},
   "outputs": [],
   "source": [
    "def draw_graph(thetas, img_name):\n",
    "    plt.ylabel(\"theta\")\n",
    "    plt.xlabel(\"# of Iterations\")\n",
    "    plt.plot(thetas)\n",
    "    plt.savefig(img_name)"
   ]
  },
  {
   "cell_type": "code",
   "execution_count": 14,
   "metadata": {},
   "outputs": [],
   "source": [
    "def one_run(sigma_2):\n",
    "    L_y = 1/sigma_2\n",
    "    lambd = min(5 * 1/L_y, 2.0)\n",
    "    gamma = 0.98 /(L_y + 1/lambd)\n",
    "    \n",
    "    X, y = generate_data(np.sqrt(sigma_2))\n",
    "    \n",
    "    nabla_f = get_nabla_f(sigma_2, y)\n",
    "    return  sapg_scalar_homogeneous(theta_0, X, nabla_f, gamma, lambd, N)"
   ]
  },
  {
   "cell_type": "code",
   "execution_count": 15,
   "metadata": {},
   "outputs": [],
   "source": [
    "N = 40\n",
    "beta = 0.8\n",
    "dim_Y = 256\n",
    "dim_X = 256\n",
    "d = dim_Y**2\n",
    "theta_0 = 0.5\n",
    "\n",
    "# Get the slices\n",
    "dummy_coeff = pywt.wavedec2(np.ones((dim_Y ,dim_Y)), 'haar', level=4)\n",
    "_, slices = pywt.coeffs_to_array(dummy_coeff)"
   ]
  },
  {
   "cell_type": "code",
   "execution_count": 17,
   "metadata": {},
   "outputs": [
    {
     "name": "stdout",
     "output_type": "stream",
     "text": [
      "Current SNR 19.89367206256341\n"
     ]
    },
    {
     "data": {
      "image/png": "[encoded data removed]",
      "text/plain": [
       "<Figure size 432x288 with 1 Axes>"
      ]
     },
     "metadata": {
      "needs_background": "light"
     },
     "output_type": "display_data"
    }
   ],
   "source": [
    "# Run for SNR = 20dB\n",
    "sigma_2 = 0.0375 #SNR = 20 -> sigma_2 is approx 0.0375\n",
    "avg_theta, thetas = one_run(sigma_2)\n",
    "draw_graph(thetas, \"SNR20.pdf\")"
   ]
  },
  {
   "cell_type": "code",
   "execution_count": 18,
   "metadata": {},
   "outputs": [
    {
     "name": "stdout",
     "output_type": "stream",
     "text": [
      "Current SNR 30.060748790670267\n"
     ]
    },
    {
     "data": {
      "image/png": "[encoded data removed]",
      "text/plain": [
       "<Figure size 432x288 with 1 Axes>"
      ]
     },
     "metadata": {
      "needs_background": "light"
     },
     "output_type": "display_data"
    }
   ],
   "source": [
    "# Run for SNR = 20dB\n",
    "sigma_2 = 0.00495 #SNR = 30 -> sigma_2 = 0.00495\n",
    "avg_theta, thetas = one_run(sigma_2)\n",
    "draw_graph(thetas, \"SNR30.pdf\")"
   ]
  },
  {
   "cell_type": "code",
   "execution_count": 19,
   "metadata": {},
   "outputs": [
    {
     "name": "stdout",
     "output_type": "stream",
     "text": [
      "Current SNR 39.96988200125491\n"
     ]
    },
    {
     "data": {
      "image/png": "[encoded data removed]",
      "text/plain": [
       "<Figure size 432x288 with 1 Axes>"
      ]
     },
     "metadata": {
      "needs_background": "light"
     },
     "output_type": "display_data"
    }
   ],
   "source": [
    "# Run for SNR = 20dB\n",
    "sigma_2 = 0.00067 #SNR = 40 -> sigma_2 = 0.00067\n",
    "avg_theta, thetas = one_run(sigma_2)\n",
    "draw_graph(thetas, \"SNR40.pdf\")"
   ]
  },
  {
   "cell_type": "code",
   "execution_count": null,
   "metadata": {},
   "outputs": [],
   "source": []
  }
 ],
 "metadata": {
  "kernelspec": {
   "display_name": "Python 3",
   "language": "python",
   "name": "python3"
  },
  "language_info": {
   "codemirror_mode": {
    "name": "ipython",
    "version": 3
   },
   "file_extension": ".py",
   "mimetype": "text/x-python",
   "name": "python",
   "nbconvert_exporter": "python",
   "pygments_lexer": "ipython3",
   "version": "3.7.5"
  }
 },
 "nbformat": 4,
 "nbformat_minor": 1
}
