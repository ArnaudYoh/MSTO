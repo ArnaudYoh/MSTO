{
 "cells": [
  {
   "cell_type": "code",
   "execution_count": 1,
   "metadata": {},
   "outputs": [],
   "source": [
    "import numpy as np \n",
    "import pywt"
   ]
  },
  {
   "cell_type": "code",
   "execution_count": 2,
   "metadata": {},
   "outputs": [],
   "source": [
    "def get_nabla_f(sigma, y):\n",
    "    \"\"\"Returns the gradient of the function f w.r.t to X \n",
    "    \"\"\"\n",
    "    # Precalculate variables to save time\n",
    "    psi_y, slices = pywt.coeffs_to_array(pywt.wavedec2(y, 'haar', level=4))\n",
    "    def nabla_f(X):\n",
    "        #return - (psi_y - pywt.coeffs_to_array(pywt.wavedec2(X, 'haar', level=4))[0]) / sigma_2\n",
    "        return - (psi_y - X) / sigma_2\n",
    "    \n",
    "    return nabla_f"
   ]
  },
  {
   "cell_type": "code",
   "execution_count": 3,
   "metadata": {},
   "outputs": [],
   "source": [
    "def proximal(X, theta):\n",
    "    \"\"\"Computes the proximal operator parametrized by lambda and theta^T * g of X     \n",
    "    \n",
    "    Note:   Our prox operator of x is argmin_{\\bar{x}}(\\theta * |\\bar{x}| + \\frac{\\bar{x} - x}{2\\lambda})\n",
    "            which is equivalent to argmin_{\\bar{x}}(\\theta * \\lambda * |\\bar{x}| + \\frac{\\bar{x} - x}{2})\n",
    "            \n",
    "    The code below represents the hand calculated solution we found for the argmin\n",
    "    \"\"\"\n",
    "    X_bar = np.copy(X)\n",
    "    for i in range(len(X)):\n",
    "        for j in range(len(X[0])):\n",
    "            sign = 1 if X_bar[i, j] > 0 else -1\n",
    "            X_bar[i, j] = sign * max(0, np.absolute(X_bar[i, j]) - lambd * theta)\n",
    "    return X_bar"
   ]
  },
  {
   "cell_type": "code",
   "execution_count": 4,
   "metadata": {},
   "outputs": [],
   "source": [
    "def myula_kernel(X, nabla_f, theta):\n",
    "    \"\"\"Returns the new value of X based on the MYULA kernel\n",
    "    \"\"\"\n",
    "    Z = np.random.normal(size=X.shape)\n",
    "    return X - gamma * nabla_f(X) - gamma * (X - proximal(X, theta))/lambd + np.sqrt(2*gamma) * Z"
   ]
  },
  {
   "cell_type": "code",
   "execution_count": 5,
   "metadata": {},
   "outputs": [],
   "source": [
    "def projection(a):\n",
    "    return 0.000001 if a < 0 else a"
   ]
  },
  {
   "cell_type": "code",
   "execution_count": 6,
   "metadata": {},
   "outputs": [],
   "source": [
    "def sapg_scalar_homogeneous(theta_0, X, nabla_f, N):\n",
    "    \"\"\"SAPG Algorithm for scalar theta and alpha positively homogeneous regularizer g\"\"\"\n",
    "    thetas = [theta_0]\n",
    "    theta = theta_0\n",
    "    for i in range(N):\n",
    "        delta = (i+1)**(-beta) / (theta_0 * dim_X**2)\n",
    "        X = myula_kernel(X, nabla_f, thetas[i])\n",
    "        theta = projection(theta + delta * (dim_X**2 / theta - np.linalg.norm(X.reshape(-1), ord=1))) # g(x) = |x|_1\n",
    "        thetas.append(theta)\n",
    "    return np.mean(thetas), thetas"
   ]
  },
  {
   "cell_type": "code",
   "execution_count": 7,
   "metadata": {},
   "outputs": [],
   "source": [
    "def generate_data():\n",
    "    x = np.random.laplace(size=(dim_X, dim_X))\n",
    "    coeffs = pywt.array_to_coeffs(x, slices, output_format='wavedec2')\n",
    "    y = pywt.waverec2(coeffs, 'haar')\n",
    "    \n",
    "    return x, y"
   ]
  },
  {
   "cell_type": "code",
   "execution_count": 8,
   "metadata": {},
   "outputs": [],
   "source": [
    "N = 50\n",
    "beta = 0.8\n",
    "dim_Y = 256\n",
    "dim_X = 256\n",
    "d = dim_Y**2\n",
    "theta_0 = 0.5\n",
    "\n",
    "# Get the slices\n",
    "dummy_coeff = pywt.wavedec2(np.ones((dim_Y ,dim_Y)), 'haar', level=4)\n",
    "_, slices = pywt.coeffs_to_array(dummy_coeff)"
   ]
  },
  {
   "cell_type": "code",
   "execution_count": 9,
   "metadata": {},
   "outputs": [],
   "source": [
    "# Define Params for the Algorithm\n",
    "sigma_2 = 0.01 #SNR = 20 -> sigma_2 = 0.01\n",
    "L_y = 1/sigma_2\n",
    "lambd = max(5 * 1/L_y, 2.0) # currently L_y=5\n",
    "gamma = 0.98 /(L_y + 1/lambd)"
   ]
  },
  {
   "cell_type": "code",
   "execution_count": 10,
   "metadata": {},
   "outputs": [
    {
     "data": {
      "text/plain": [
       "(1.070555554679737,\n",
       " [0.5,\n",
       "  2.5364591216935306,\n",
       "  1.839754737937295,\n",
       "  1.4590061682937807,\n",
       "  1.250648299668402,\n",
       "  1.1389356866577238,\n",
       "  1.0800002376051476,\n",
       "  1.0477964863056852,\n",
       "  1.0296204830554492,\n",
       "  1.0189194141749613,\n",
       "  1.0123311912924982,\n",
       "  1.0081401285684226,\n",
       "  1.0052302313687318,\n",
       "  1.0033848855993261,\n",
       "  1.0022331495155283,\n",
       "  1.0011685126236731,\n",
       "  1.0002777972673487,\n",
       "  0.9996012558410685,\n",
       "  0.9991212223100562,\n",
       "  0.998869620993437,\n",
       "  0.9986704976823816,\n",
       "  0.998680837121914,\n",
       "  0.9986377530637027,\n",
       "  0.9985762192416743,\n",
       "  0.9984838850248196,\n",
       "  0.998298342516528,\n",
       "  0.9982936721967471,\n",
       "  0.9982613691598008,\n",
       "  0.9980789026402807,\n",
       "  0.997961576391599,\n",
       "  0.9980274615645417,\n",
       "  0.9979437798971665,\n",
       "  0.9979058386336492,\n",
       "  0.9980297414156368,\n",
       "  0.9980140140470508,\n",
       "  0.9978668919803351,\n",
       "  0.9978565060372493,\n",
       "  0.9978587761079166,\n",
       "  0.9979788485826067,\n",
       "  0.9978924594419276,\n",
       "  0.9979617383496215])"
      ]
     },
     "execution_count": 10,
     "metadata": {},
     "output_type": "execute_result"
    }
   ],
   "source": [
    "_, y = generate_data()\n",
    "nabla_f = get_nabla_f(sigma_2, y)\n",
    "X_0 = np.zeros((dim_X, dim_X))\n",
    "sapg_scalar_homogeneous(theta_0, X_0, nabla_f, N)"
   ]
  },
  {
   "cell_type": "code",
   "execution_count": 11,
   "metadata": {},
   "outputs": [],
   "source": [
    "# Define Params for the Algorithm\n",
    "sigma_2 = 0.001 #SNR = 30 -> sigma_2 = 0.001\n",
    "L_y = 1/sigma_2\n",
    "lambd = max(5 * 1/L_y, 2.0) # currently L_y=5\n",
    "gamma = 0.98 /(L_y + 1/lambd)"
   ]
  },
  {
   "cell_type": "code",
   "execution_count": 12,
   "metadata": {},
   "outputs": [
    {
     "data": {
      "text/plain": [
       "(1.0710815365847006,\n",
       " [0.5,\n",
       "  2.536789518079644,\n",
       "  1.8399099673933348,\n",
       "  1.4596136055857551,\n",
       "  1.2509465991509814,\n",
       "  1.1394086661150624,\n",
       "  1.0802536531048907,\n",
       "  1.0482627862476754,\n",
       "  1.030203656947974,\n",
       "  1.0194232210387637,\n",
       "  1.0129061720649835,\n",
       "  1.0086626553384712,\n",
       "  1.005888356007752,\n",
       "  1.0039075174609988,\n",
       "  1.0025992906524916,\n",
       "  1.0016439901714402,\n",
       "  1.000963026320855,\n",
       "  1.0003479623429934,\n",
       "  0.9999864258632208,\n",
       "  0.9996827916225618,\n",
       "  0.9994748095043758,\n",
       "  0.999305858454614,\n",
       "  0.9991569929542166,\n",
       "  0.9990033448701687,\n",
       "  0.998896858485755,\n",
       "  0.9987798794914224,\n",
       "  0.9987191531576778,\n",
       "  0.998640119964843,\n",
       "  0.9986413538366217,\n",
       "  0.9986040157596988,\n",
       "  0.9985693497901076,\n",
       "  0.9985308606393248,\n",
       "  0.9985160125217926,\n",
       "  0.9985453687105561,\n",
       "  0.9985369360962596,\n",
       "  0.9985077970206131,\n",
       "  0.9985323283252838,\n",
       "  0.9985123261536993,\n",
       "  0.9984968485546474,\n",
       "  0.9984708471796723,\n",
       "  0.9985020769915222])"
      ]
     },
     "execution_count": 12,
     "metadata": {},
     "output_type": "execute_result"
    }
   ],
   "source": [
    "_, y = generate_data()\n",
    "nabla_f = get_nabla_f(sigma_2, y)\n",
    "X_0 = np.zeros((dim_X, dim_X))\n",
    "sapg_scalar_homogeneous(theta_0, X_0, nabla_f, N)"
   ]
  },
  {
   "cell_type": "code",
   "execution_count": 13,
   "metadata": {},
   "outputs": [],
   "source": [
    "# Define Params for the Algorithm\n",
    "sigma_2 = 0.0001 #SNR = 40 -> sigma_2 = 0.0001 \n",
    "L_y = 1/sigma_2\n",
    "lambd = max(5 * 1/L_y, 2.0) # currently L_y=5\n",
    "gamma = 0.98 /(L_y + 1/lambd)"
   ]
  },
  {
   "cell_type": "code",
   "execution_count": 14,
   "metadata": {},
   "outputs": [
    {
     "data": {
      "text/plain": [
       "(1.0730791081342659,\n",
       " [0.5,\n",
       "  2.5401570879426574,\n",
       "  1.844114076317111,\n",
       "  1.4639999189474073,\n",
       "  1.254916725907453,\n",
       "  1.1428668572481864,\n",
       "  1.0832196028019214,\n",
       "  1.050826044647412,\n",
       "  1.032498241251455,\n",
       "  1.021655154206792,\n",
       "  1.0149175981923888,\n",
       "  1.0106041040378095,\n",
       "  1.0077428815432172,\n",
       "  1.0057598286090002,\n",
       "  1.0043687062813789,\n",
       "  1.0033910302395994,\n",
       "  1.0026355108815204,\n",
       "  1.0020762854364376,\n",
       "  1.0016704203361493,\n",
       "  1.0013638714550268,\n",
       "  1.0011103671175634,\n",
       "  1.0009086128401354,\n",
       "  1.0007645872232216,\n",
       "  1.0006570069622873,\n",
       "  1.0005677628034193,\n",
       "  1.0004757589437918,\n",
       "  1.0003963941435507,\n",
       "  1.0003442888540424,\n",
       "  1.000300642350983,\n",
       "  1.0002671820291245,\n",
       "  1.0002394102384335,\n",
       "  1.000211684912781,\n",
       "  1.00018461334595,\n",
       "  1.0001650450132347,\n",
       "  1.0001612195026055,\n",
       "  1.0001430489713017,\n",
       "  1.000128055411781,\n",
       "  1.0001211801308316,\n",
       "  1.0001113129248138,\n",
       "  1.0001054658383837,\n",
       "  1.0000958476637456])"
      ]
     },
     "execution_count": 14,
     "metadata": {},
     "output_type": "execute_result"
    }
   ],
   "source": [
    "_, y = generate_data()\n",
    "nabla_f = get_nabla_f(sigma_2, y)\n",
    "X_0 = np.zeros((dim_X, dim_X))\n",
    "sapg_scalar_homogeneous(theta_0, X_0, nabla_f, N)"
   ]
  }
 ],
 "metadata": {
  "kernelspec": {
   "display_name": "Python 3",
   "language": "python",
   "name": "python3"
  },
  "language_info": {
   "codemirror_mode": {
    "name": "ipython",
    "version": 3
   },
   "file_extension": ".py",
   "mimetype": "text/x-python",
   "name": "python",
   "nbconvert_exporter": "python",
   "pygments_lexer": "ipython3",
   "version": "3.7.5"
  }
 },
 "nbformat": 4,
 "nbformat_minor": 1
}
