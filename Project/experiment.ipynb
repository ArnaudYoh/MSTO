{
 "cells": [
  {
   "cell_type": "code",
   "execution_count": 1,
   "metadata": {},
   "outputs": [],
   "source": [
    "import numpy as np \n",
    "import pywt\n",
    "import matplotlib.pyplot as plt"
   ]
  },
  {
   "cell_type": "code",
   "execution_count": 2,
   "metadata": {},
   "outputs": [],
   "source": [
    "def get_nabla_f(sigma, y):\n",
    "    \"\"\"Returns the gradient of the function f w.r.t to X \n",
    "    \"\"\"\n",
    "    # Precalculate variables to save time\n",
    "    psi_y, slices = pywt.coeffs_to_array(pywt.wavedec2(y, 'haar', level=4))\n",
    "    def nabla_f(X):\n",
    "        return - (psi_y - X) / sigma_2\n",
    "    \n",
    "    return nabla_f"
   ]
  },
  {
   "cell_type": "code",
   "execution_count": 3,
   "metadata": {},
   "outputs": [],
   "source": [
    "def proximal(X, theta):\n",
    "    \"\"\"Computes the proximal operator parametrized by lambda and theta^T * g of X     \n",
    "    \n",
    "    Note:   Our prox operator of x is argmin_{\\bar{x}}(\\theta * |\\bar{x}| + \\frac{\\bar{x} - x}{2\\lambda})\n",
    "            which is equivalent to argmin_{\\bar{x}}(\\theta * \\lambda * |\\bar{x}| + \\frac{\\bar{x} - x}{2})\n",
    "            \n",
    "    The code below represents the hand calculated solution we found for the argmin\n",
    "    \"\"\"\n",
    "    X_bar = np.copy(X)\n",
    "    for i in range(len(X)):\n",
    "        for j in range(len(X[0])):\n",
    "            sign = 1 if X_bar[i, j] > 0 else -1\n",
    "            X_bar[i, j] = sign * max(0, np.absolute(X_bar[i, j]) - lambd * theta)\n",
    "    return X_bar"
   ]
  },
  {
   "cell_type": "code",
   "execution_count": 4,
   "metadata": {},
   "outputs": [],
   "source": [
    "def myula_kernel(X, nabla_f, theta):\n",
    "    \"\"\"Returns the new value of X based on the MYULA kernel\n",
    "    \"\"\"\n",
    "    Z = np.random.normal(size=X.shape)\n",
    "    return X - gamma * nabla_f(X) - gamma * (X - proximal(X, theta))/lambd + np.sqrt(2*gamma) * Z"
   ]
  },
  {
   "cell_type": "code",
   "execution_count": 5,
   "metadata": {},
   "outputs": [],
   "source": [
    "def projection(a):\n",
    "    return 0.000001 if a < 0 else a"
   ]
  },
  {
   "cell_type": "code",
   "execution_count": 62,
   "metadata": {},
   "outputs": [],
   "source": [
    "def sapg_scalar_homogeneous(theta_0, X, nabla_f, N):\n",
    "    \"\"\"SAPG Algorithm for scalar theta and alpha positively homogeneous regularizer g\"\"\"\n",
    "    thetas = [theta_0]\n",
    "    theta = theta_0\n",
    "    for i in range(N):\n",
    "        delta = (i+1)**(-beta) / (theta_0 * dim_X**2)\n",
    "        X = myula_kernel(X, nabla_f, thetas[i])\n",
    "        theta = projection(theta + delta * (dim_X**2 * theta_0 / theta - np.linalg.norm(X.reshape(-1), ord=1))) # g(x) = |x|_1\n",
    "        thetas.append(theta)\n",
    "    return np.mean(thetas), thetas"
   ]
  },
  {
   "cell_type": "code",
   "execution_count": 63,
   "metadata": {},
   "outputs": [],
   "source": [
    "def generate_data():\n",
    "    x = np.random.laplace(size=(dim_X, dim_X))\n",
    "    coeffs = pywt.array_to_coeffs(x, slices, output_format='wavedec2')\n",
    "    y = pywt.waverec2(coeffs, 'haar')\n",
    "    \n",
    "    return x, y"
   ]
  },
  {
   "cell_type": "code",
   "execution_count": 64,
   "metadata": {},
   "outputs": [],
   "source": [
    "N = 40\n",
    "beta = 0.8\n",
    "dim_Y = 256\n",
    "dim_X = 256\n",
    "d = dim_Y**2\n",
    "theta_0 = 0.4\n",
    "\n",
    "# Get the slices\n",
    "dummy_coeff = pywt.wavedec2(np.ones((dim_Y ,dim_Y)), 'haar', level=4)\n",
    "_, slices = pywt.coeffs_to_array(dummy_coeff)"
   ]
  },
  {
   "cell_type": "code",
   "execution_count": 65,
   "metadata": {},
   "outputs": [
    {
     "name": "stdout",
     "output_type": "stream",
     "text": [
      "100.0\n",
      "0.05\n",
      "0.008166666666666666\n"
     ]
    }
   ],
   "source": [
    "# Define Params for the Algorithm\n",
    "sigma_2 = 0.01 #SNR = 20 -> sigma_2 = 0.01\n",
    "L_y = 1/sigma_2\n",
    "lambd = min(5 * 1/L_y, 2.0)\n",
    "gamma = 0.98 /(L_y + 1/lambd)\n",
    "print(L_y)\n",
    "print(lambd)\n",
    "print(gamma)"
   ]
  },
  {
   "cell_type": "code",
   "execution_count": 66,
   "metadata": {},
   "outputs": [
    {
     "data": {
      "text/plain": [
       "[<matplotlib.lines.Line2D at 0x7f92eb64a550>]"
      ]
     },
     "execution_count": 66,
     "metadata": {},
     "output_type": "execute_result"
    },
    {
     "data": {
      "image/png": "[encoded data removed]",
      "text/plain": [
       "<Figure size 432x288 with 1 Axes>"
      ]
     },
     "metadata": {
      "needs_background": "light"
     },
     "output_type": "display_data"
    }
   ],
   "source": [
    "_, y = generate_data()\n",
    "nabla_f = get_nabla_f(sigma_2, y)\n",
    "X_0 = np.zeros((dim_X, dim_X))\n",
    "avg_theta, thetas = sapg_scalar_homogeneous(theta_0, X_0, nabla_f, N)\n",
    "plt.ylabel(\"theta\")\n",
    "plt.xlabel(\"# of Iterations\")\n",
    "plt.plot(thetas)"
   ]
  },
  {
   "cell_type": "code",
   "execution_count": 67,
   "metadata": {},
   "outputs": [
    {
     "name": "stdout",
     "output_type": "stream",
     "text": [
      "1000.0\n",
      "0.005\n",
      "0.0008166666666666666\n"
     ]
    }
   ],
   "source": [
    "# Define Params for the Algorithm\n",
    "sigma_2 = 0.001 #SNR = 30 -> sigma_2 = 0.001\n",
    "L_y = 1/sigma_2\n",
    "lambd = min(5 * 1/L_y, 2.0) # currently L_y=5\n",
    "gamma = 0.98 /(L_y + 1/lambd)\n",
    "print(L_y)\n",
    "print(lambd)\n",
    "print(gamma)"
   ]
  },
  {
   "cell_type": "code",
   "execution_count": 68,
   "metadata": {},
   "outputs": [
    {
     "data": {
      "text/plain": [
       "[<matplotlib.lines.Line2D at 0x7f92eb5b9310>]"
      ]
     },
     "execution_count": 68,
     "metadata": {},
     "output_type": "execute_result"
    },
    {
     "data": {
      "image/png": "[encoded data removed]",
      "text/plain": [
       "<Figure size 432x288 with 1 Axes>"
      ]
     },
     "metadata": {
      "needs_background": "light"
     },
     "output_type": "display_data"
    }
   ],
   "source": [
    "_, y = generate_data()\n",
    "nabla_f = get_nabla_f(sigma_2, y)\n",
    "X_0 = np.zeros((dim_X, dim_X))\n",
    "avg_theta, thetas = sapg_scalar_homogeneous(theta_0, X_0, nabla_f, N)\n",
    "plt.ylabel(\"theta\")\n",
    "plt.xlabel(\"# of Iterations\")\n",
    "plt.plot(thetas)"
   ]
  },
  {
   "cell_type": "code",
   "execution_count": 69,
   "metadata": {},
   "outputs": [
    {
     "name": "stdout",
     "output_type": "stream",
     "text": [
      "10000.0\n",
      "0.0005\n",
      "8.166666666666667e-05\n"
     ]
    }
   ],
   "source": [
    "# Define Params for the Algorithm\n",
    "sigma_2 = 0.0001 #SNR = 40 -> sigma_2 = 0.0001 \n",
    "L_y = 1/sigma_2\n",
    "lambd = min(5 * 1/L_y, 2.0) # currently L_y=5\n",
    "gamma = 0.98 /(L_y + 1/lambd)\n",
    "print(L_y)\n",
    "print(lambd)\n",
    "print(gamma)"
   ]
  },
  {
   "cell_type": "code",
   "execution_count": 70,
   "metadata": {},
   "outputs": [
    {
     "data": {
      "text/plain": [
       "[<matplotlib.lines.Line2D at 0x7f92eb59df10>]"
      ]
     },
     "execution_count": 70,
     "metadata": {},
     "output_type": "execute_result"
    },
    {
     "data": {
      "image/png": "[encoded data removed]",
      "text/plain": [
       "<Figure size 432x288 with 1 Axes>"
      ]
     },
     "metadata": {
      "needs_background": "light"
     },
     "output_type": "display_data"
    }
   ],
   "source": [
    "_, y = generate_data()\n",
    "nabla_f = get_nabla_f(sigma_2, y)\n",
    "X_0 = np.zeros((dim_X, dim_X))\n",
    "avg_theta, thetas = sapg_scalar_homogeneous(theta_0, X_0, nabla_f, N)\n",
    "plt.ylabel(\"theta\")\n",
    "plt.xlabel(\"# of Iterations\")\n",
    "plt.plot(thetas)"
   ]
  },
  {
   "cell_type": "code",
   "execution_count": null,
   "metadata": {},
   "outputs": [],
   "source": []
  }
 ],
 "metadata": {
  "kernelspec": {
   "display_name": "Python 3",
   "language": "python",
   "name": "python3"
  },
  "language_info": {
   "codemirror_mode": {
    "name": "ipython",
    "version": 3
   },
   "file_extension": ".py",
   "mimetype": "text/x-python",
   "name": "python",
   "nbconvert_exporter": "python",
   "pygments_lexer": "ipython3",
   "version": "3.7.5"
  }
 },
 "nbformat": 4,
 "nbformat_minor": 1
}
